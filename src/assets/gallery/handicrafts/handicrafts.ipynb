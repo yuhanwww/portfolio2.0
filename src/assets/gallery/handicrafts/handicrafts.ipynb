{
 "cells": [
  {
   "cell_type": "code",
   "execution_count": null,
   "metadata": {},
   "outputs": [],
   "source": [
    "import os\n",
    "directory = '.'\n",
    "\n",
    "f=open('./artworks.txt','a')\n",
    "\n",
    "for filename in os.listdir(directory):\n",
    "    if os.path.isfile(filename):\n",
    "        f.write('import ')\n",
    "        f.write(filename[:-4])\n",
    "        f.write(' from \"../../assets/gallery/artworks/'+filename+'\";\\n')"
   ]
  },
  {
   "cell_type": "code",
   "execution_count": 5,
   "metadata": {},
   "outputs": [],
   "source": [
    "import os\n",
    "directory = '.'\n",
    "\n",
    "f=open('./handicrafts.txt','a')\n",
    "for filename in os.listdir(directory):\n",
    "    if os.path.isfile(filename):\n",
    "        f.write('{\\n')\n",
    "        f.write('\\tname:\"'+filename[:-4]+'\",')\n",
    "        f.write('\\n\\tdescription:\"\",\\n')\n",
    "        f.write('},\\n')"
   ]
  },
  {
   "cell_type": "code",
   "execution_count": 2,
   "metadata": {},
   "outputs": [],
   "source": [
    "import os\n",
    "directory = '.'\n",
    "\n",
    "f=open('./digital.txt','a')\n",
    "for filename in os.listdir(directory):\n",
    "    if os.path.isfile(filename):\n",
    "        f.write('{\\n')\n",
    "        f.write('\\turl:\"../../assets/gallery/digital/'+filename+'\",')\n",
    "        f.write('\\n\\tdescription:\"\",\\n')\n",
    "        f.write('},\\n')"
   ]
  },
  {
   "cell_type": "code",
   "execution_count": null,
   "metadata": {},
   "outputs": [],
   "source": []
  }
 ],
 "metadata": {
  "kernelspec": {
   "display_name": "Python 3",
   "language": "python",
   "name": "python3"
  },
  "language_info": {
   "codemirror_mode": {
    "name": "ipython",
    "version": 3
   },
   "file_extension": ".py",
   "mimetype": "text/x-python",
   "name": "python",
   "nbconvert_exporter": "python",
   "pygments_lexer": "ipython3",
   "version": "3.11.0"
  }
 },
 "nbformat": 4,
 "nbformat_minor": 2
}
