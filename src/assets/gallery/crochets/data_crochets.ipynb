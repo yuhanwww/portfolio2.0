{
 "cells": [
  {
   "cell_type": "code",
   "execution_count": 2,
   "metadata": {},
   "outputs": [],
   "source": [
    "import os\n",
    "directory = '.'"
   ]
  },
  {
   "cell_type": "code",
   "execution_count": 2,
   "metadata": {},
   "outputs": [],
   "source": [
    "# f=open('./data_crochets.jsx','a')\n",
    "# f.write('export const crochets = [\\n')\n",
    "# for filename in os.listdir(directory):\n",
    "#     if (os.path.isfile(filename)) & (filename[-4:]!='.txt') & (filename[-4:]!='pynb') & (filename[-4:]!='TORE'):\n",
    "#         f.write('\\t{\\n')\n",
    "#         f.write('\\t\\tsrc:\"../../assets/gallery/crochets/'+filename+'\",\\n')\n",
    "#         f.write('\\t\\tname:'+filename[:-4]+',\\n')\n",
    "#         f.write('\\t},\\n')\n",
    "# f.write('\\n]')"
   ]
  },
  {
   "cell_type": "code",
   "execution_count": 12,
   "metadata": {},
   "outputs": [
    {
     "data": {
      "text/plain": [
       "29"
      ]
     },
     "execution_count": 12,
     "metadata": {},
     "output_type": "execute_result"
    }
   ],
   "source": [
    "f=open('../../../components/Gallery/data_crochets.jsx','a')\n",
    "\n",
    "for filename in os.listdir(directory):\n",
    "    if (os.path.isfile(filename)) & (filename[-4:]=='.png'):\n",
    "        f.write('import '+filename[:-4]+' from '+'\"../../assets/gallery/crochets/'+filename+'\";\\n')\n",
    "\n",
    "f.write('\\nconst data_crochets = [\\n')\n",
    "\n",
    "for filename in os.listdir(directory):\n",
    "    if (os.path.isfile(filename)) & (filename[-4:]=='.png'):\n",
    "        f.write('\\t{')\n",
    "        f.write('src:'+filename[:-4]+', ')\n",
    "        f.write('name:'+filename[:-4]+'},\\n')\n",
    "f.write(']\\n\\n')\n",
    "f.write('export default data_crochets;')"
   ]
  },
  {
   "cell_type": "code",
   "execution_count": null,
   "metadata": {},
   "outputs": [],
   "source": []
  }
 ],
 "metadata": {
  "kernelspec": {
   "display_name": "Python 3",
   "language": "python",
   "name": "python3"
  },
  "language_info": {
   "codemirror_mode": {
    "name": "ipython",
    "version": 3
   },
   "file_extension": ".py",
   "mimetype": "text/x-python",
   "name": "python",
   "nbconvert_exporter": "python",
   "pygments_lexer": "ipython3",
   "version": "3.11.0"
  }
 },
 "nbformat": 4,
 "nbformat_minor": 2
}
