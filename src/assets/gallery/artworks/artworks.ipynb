{
 "cells": [
  {
   "cell_type": "code",
   "execution_count": 5,
   "metadata": {},
   "outputs": [],
   "source": [
    "import os\n",
    "directory = '.'\n",
    "\n",
    "f=open('./artworks.txt','a')\n",
    "\n",
    "for filename in os.listdir(directory):\n",
    "    if os.path.isfile(filename):\n",
    "        f.write('import ')\n",
    "        f.write(filename[:-4])\n",
    "        f.write(' from \"../../assets/gallery/artworks/'+filename+'\";\\n')"
   ]
  },
  {
   "cell_type": "code",
   "execution_count": 4,
   "metadata": {},
   "outputs": [],
   "source": [
    "f=open('./artworks.txt','a')\n",
    "f.write('\\n\\n')\n",
    "for filename in os.listdir(directory):\n",
    "    if os.path.isfile(filename):\n",
    "        f.write('{\\n')\n",
    "        f.write('\\tname:\"'+filename[:-4]+'\",')\n",
    "        f.write('\\n\\tdescription:\"\",\\n')\n",
    "        f.write('},\\n')"
   ]
  },
  {
   "cell_type": "code",
   "execution_count": 3,
   "metadata": {},
   "outputs": [],
   "source": [
    "f=open('./artworks.txt','a')\n",
    "for filename in os.listdir(directory):\n",
    "    if os.path.isfile(filename):\n",
    "        f.write('{\\n')\n",
    "        f.write('\\turl:\"../../assets/gallery/artworks/'+filename+'\",')\n",
    "        f.write('\\n\\tdescription:\"\",\\n')\n",
    "        f.write('},\\n')"
   ]
  },
  {
   "cell_type": "code",
   "execution_count": null,
   "metadata": {},
   "outputs": [],
   "source": []
  }
 ],
 "metadata": {
  "kernelspec": {
   "display_name": "Python 3",
   "language": "python",
   "name": "python3"
  },
  "language_info": {
   "codemirror_mode": {
    "name": "ipython",
    "version": 3
   },
   "file_extension": ".py",
   "mimetype": "text/x-python",
   "name": "python",
   "nbconvert_exporter": "python",
   "pygments_lexer": "ipython3",
   "version": "3.11.0"
  }
 },
 "nbformat": 4,
 "nbformat_minor": 2
}
